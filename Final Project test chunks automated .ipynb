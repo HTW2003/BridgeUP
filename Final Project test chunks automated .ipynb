{
 "cells": [
  {
   "cell_type": "code",
   "execution_count": null,
   "metadata": {
    "collapsed": false,
    "deletable": true,
    "editable": true
   },
   "outputs": [],
   "source": []
  },
  {
   "cell_type": "code",
   "execution_count": 1,
   "metadata": {
    "collapsed": true,
    "deletable": true,
    "editable": true
   },
   "outputs": [],
   "source": [
    "name_list = []\n",
    "unchunked_list = []\n",
    "unchunked_correct = []\n",
    "chunked_list = []\n",
    "chunked_correct = []"
   ]
  },
  {
   "cell_type": "code",
   "execution_count": 30,
   "metadata": {
    "collapsed": true,
    "deletable": true,
    "editable": true
   },
   "outputs": [],
   "source": [
    "import pandas as pd\n",
    "import random\n",
    "import time\n",
    "import sys \n",
    "\n",
    "\n",
    "\n",
    "# This prints out the random random numbers, chunked or unchunked\n",
    "def random_nums(amount_nums, chunk_size):\n",
    "    num_string = \"\"\n",
    "    chunked = []\n",
    "    for i in range(0, amount_nums):\n",
    "        num_string += str(random.randrange(10))\n",
    "    if chunk_size <= 1:\n",
    "        return num_string\n",
    "    elif chunk_size >= 2:\n",
    "        for x in range(0, len(num_string), chunk_size):\n",
    "            chunked.append(num_string[x:x+chunk_size])\n",
    "    return chunked\n",
    "\n",
    "\n",
    "# This checks the amount of differences between the actual random number\n",
    "# and the the number people remember \n",
    "def differences_2(file1):\n",
    "    file1 = \"\".join(file1)\n",
    "    c = 0\n",
    "    file2 = input(\"Please enter the numbers you remember with no spaces.\")\n",
    "    for i in range (0, len(file2)):\n",
    "        if file1[i] == file2[i]:\n",
    "            c += 1\n",
    "    return c\n",
    "\n",
    "\n",
    "# This calls the above function that compares the 2 sequnces of numbers for unchunked\n",
    "def function1(var1):\n",
    "    unchunked_amount_correct = (differences_2(var1))\n",
    "    print(unchunked_amount_correct)\n",
    "    unchunked_correct.append(unchunked_amount_correct)\n",
    "\n",
    "\n",
    "# This calls the above function that compares the 2 sequnces of numbers for chunked\n",
    "def function2(var2):\n",
    "    chunked_amount_correct = (differences_2(var2))\n",
    "    print(chunked_amount_correct)\n",
    "    chunked_correct.append(chunked_amount_correct)\n",
    "    \n",
    "# This helps to erase the previous line\n",
    "def restart_line():\n",
    "    sys.stdout.write('\\r')\n",
    "    sys.stdout.flush()\n",
    "\n",
    "\n",
    "\n",
    "# This funcion actually does the work\n",
    "def all_in_one(amount_nums, chunk_size):\n",
    "\n",
    "    name = input(\"What is your name?\")\n",
    "    name_list.append(name)\n",
    "    \n",
    "    \n",
    "    unchunked_num = (random_nums(amount_nums, 0))\n",
    "    unchunked_list.append(unchunked_num)\n",
    "    sys.stdout.write(unchunked_num)\n",
    "\n",
    "    \n",
    "    sys.stdout.flush()\n",
    "    time.sleep(15)\n",
    "    restart_line()\n",
    "    sys.stdout.write(\"                                   \\n\")\n",
    "    sys.stdout.flush()\n",
    "    function1(unchunked_num)\n",
    "   \n",
    "    \n",
    "    chunked_num = (random_nums(amount_nums, chunk_size))\n",
    "    chunked_list.append(chunked_num)  \n",
    "    sys.stdout.write(\" \".join(chunked_num))\n",
    "    \n",
    "    sys.stdout.flush()\n",
    "    time.sleep(15)\n",
    "    restart_line()\n",
    "    sys.stdout.write(\"                                                    \\n\")\n",
    "    sys.stdout.flush()\n",
    "    function2(chunked_num)"
   ]
  },
  {
   "cell_type": "code",
   "execution_count": null,
   "metadata": {
    "collapsed": false,
    "deletable": true,
    "editable": true
   },
   "outputs": [
    {
     "name": "stdout",
     "output_type": "stream",
     "text": [
      "What is your name?dfghjk\n",
      "                                   \n",
      "Please enter the numbers you remember with no spaces.dfgh\n",
      "0\n",
      "                                                    \n"
     ]
    }
   ],
   "source": [
    "all_in_one(35, 2)\n"
   ]
  },
  {
   "cell_type": "code",
   "execution_count": null,
   "metadata": {
    "collapsed": true,
    "deletable": true,
    "editable": true
   },
   "outputs": [],
   "source": []
  },
  {
   "cell_type": "code",
   "execution_count": null,
   "metadata": {
    "collapsed": true,
    "deletable": true,
    "editable": true
   },
   "outputs": [],
   "source": []
  },
  {
   "cell_type": "code",
   "execution_count": 36,
   "metadata": {
    "collapsed": true,
    "deletable": true,
    "editable": true
   },
   "outputs": [],
   "source": [
    "df = pd.DataFrame({\"Names\": name_list, \"Unchunked Numbers\": unchunked_list, \"Unchunked Number of Correct\": unchunked_correct, \n",
    "                   \"Chunked Numbers\": chunked_list, \"Chunked Number of Correct\": chunked_correct})\n"
   ]
  },
  {
   "cell_type": "code",
   "execution_count": 37,
   "metadata": {
    "collapsed": true,
    "deletable": true,
    "editable": true
   },
   "outputs": [],
   "source": [
    "df = df[['Names', 'Unchunked Numbers', 'Unchunked Number of Correct', 'Chunked Numbers', 'Chunked Number of Correct']]"
   ]
  },
  {
   "cell_type": "code",
   "execution_count": 38,
   "metadata": {
    "collapsed": false,
    "deletable": true,
    "editable": true
   },
   "outputs": [
    {
     "data": {
      "text/html": [
       "<div>\n",
       "<style>\n",
       "    .dataframe thead tr:only-child th {\n",
       "        text-align: right;\n",
       "    }\n",
       "\n",
       "    .dataframe thead th {\n",
       "        text-align: left;\n",
       "    }\n",
       "\n",
       "    .dataframe tbody tr th {\n",
       "        vertical-align: top;\n",
       "    }\n",
       "</style>\n",
       "<table border=\"1\" class=\"dataframe\">\n",
       "  <thead>\n",
       "    <tr style=\"text-align: right;\">\n",
       "      <th></th>\n",
       "      <th>Names</th>\n",
       "      <th>Unchunked Numbers</th>\n",
       "      <th>Unchunked Number of Correct</th>\n",
       "      <th>Chunked Numbers</th>\n",
       "      <th>Chunked Number of Correct</th>\n",
       "    </tr>\n",
       "  </thead>\n",
       "  <tbody>\n",
       "    <tr>\n",
       "      <th>0</th>\n",
       "      <td>umut</td>\n",
       "      <td>49242160483593901541908226294774793</td>\n",
       "      <td>4</td>\n",
       "      <td>[40, 55, 11, 96, 47, 64, 68, 64, 82, 69, 80, 5...</td>\n",
       "      <td>6</td>\n",
       "    </tr>\n",
       "    <tr>\n",
       "      <th>1</th>\n",
       "      <td>stephanie</td>\n",
       "      <td>95809888355618746617367150767630113</td>\n",
       "      <td>4</td>\n",
       "      <td>[05, 15, 63, 36, 88, 12, 47, 62, 03, 27, 09, 7...</td>\n",
       "      <td>4</td>\n",
       "    </tr>\n",
       "    <tr>\n",
       "      <th>2</th>\n",
       "      <td>Alexis</td>\n",
       "      <td>19310464424530224615625607504869210</td>\n",
       "      <td>9</td>\n",
       "      <td>[09, 47, 16, 16, 17, 96, 71, 74, 94, 86, 79, 4...</td>\n",
       "      <td>9</td>\n",
       "    </tr>\n",
       "    <tr>\n",
       "      <th>3</th>\n",
       "      <td>Phincho</td>\n",
       "      <td>29720427905449509723478577839486711</td>\n",
       "      <td>3</td>\n",
       "      <td>[18, 00, 30, 71, 51, 56, 28, 28, 91, 98, 54, 3...</td>\n",
       "      <td>4</td>\n",
       "    </tr>\n",
       "    <tr>\n",
       "      <th>4</th>\n",
       "      <td>Gabrielle</td>\n",
       "      <td>84603802189645946862035287007156094</td>\n",
       "      <td>8</td>\n",
       "      <td>[31, 90, 53, 57, 23, 18, 73, 78, 44, 54, 65, 7...</td>\n",
       "      <td>6</td>\n",
       "    </tr>\n",
       "    <tr>\n",
       "      <th>5</th>\n",
       "      <td>Hanora</td>\n",
       "      <td>01365786922856724355572248452620698</td>\n",
       "      <td>7</td>\n",
       "      <td>[39, 74, 87, 62, 03, 50, 62, 96, 97, 50, 45, 7...</td>\n",
       "      <td>5</td>\n",
       "    </tr>\n",
       "    <tr>\n",
       "      <th>6</th>\n",
       "      <td>Yamile</td>\n",
       "      <td>31716285148613988641408239987194725</td>\n",
       "      <td>5</td>\n",
       "      <td>[10, 73, 80, 47, 83, 45, 29, 47, 36, 47, 33, 8...</td>\n",
       "      <td>0</td>\n",
       "    </tr>\n",
       "    <tr>\n",
       "      <th>7</th>\n",
       "      <td>Yamile</td>\n",
       "      <td>61252003706009520779231588347721124</td>\n",
       "      <td>8</td>\n",
       "      <td>[52, 09, 63, 23, 77, 58, 19, 78, 19, 71, 09, 0...</td>\n",
       "      <td>8</td>\n",
       "    </tr>\n",
       "  </tbody>\n",
       "</table>\n",
       "</div>"
      ],
      "text/plain": [
       "       Names                    Unchunked Numbers  \\\n",
       "0       umut  49242160483593901541908226294774793   \n",
       "1  stephanie  95809888355618746617367150767630113   \n",
       "2     Alexis  19310464424530224615625607504869210   \n",
       "3    Phincho  29720427905449509723478577839486711   \n",
       "4  Gabrielle  84603802189645946862035287007156094   \n",
       "5     Hanora  01365786922856724355572248452620698   \n",
       "6     Yamile  31716285148613988641408239987194725   \n",
       "7     Yamile  61252003706009520779231588347721124   \n",
       "\n",
       "   Unchunked Number of Correct  \\\n",
       "0                            4   \n",
       "1                            4   \n",
       "2                            9   \n",
       "3                            3   \n",
       "4                            8   \n",
       "5                            7   \n",
       "6                            5   \n",
       "7                            8   \n",
       "\n",
       "                                     Chunked Numbers  \\\n",
       "0  [40, 55, 11, 96, 47, 64, 68, 64, 82, 69, 80, 5...   \n",
       "1  [05, 15, 63, 36, 88, 12, 47, 62, 03, 27, 09, 7...   \n",
       "2  [09, 47, 16, 16, 17, 96, 71, 74, 94, 86, 79, 4...   \n",
       "3  [18, 00, 30, 71, 51, 56, 28, 28, 91, 98, 54, 3...   \n",
       "4  [31, 90, 53, 57, 23, 18, 73, 78, 44, 54, 65, 7...   \n",
       "5  [39, 74, 87, 62, 03, 50, 62, 96, 97, 50, 45, 7...   \n",
       "6  [10, 73, 80, 47, 83, 45, 29, 47, 36, 47, 33, 8...   \n",
       "7  [52, 09, 63, 23, 77, 58, 19, 78, 19, 71, 09, 0...   \n",
       "\n",
       "   Chunked Number of Correct  \n",
       "0                          6  \n",
       "1                          4  \n",
       "2                          9  \n",
       "3                          4  \n",
       "4                          6  \n",
       "5                          5  \n",
       "6                          0  \n",
       "7                          8  "
      ]
     },
     "execution_count": 38,
     "metadata": {},
     "output_type": "execute_result"
    }
   ],
   "source": [
    "df.head(26)"
   ]
  },
  {
   "cell_type": "code",
   "execution_count": null,
   "metadata": {
    "collapsed": true,
    "deletable": true,
    "editable": true
   },
   "outputs": [],
   "source": []
  },
  {
   "cell_type": "code",
   "execution_count": null,
   "metadata": {
    "collapsed": true,
    "deletable": true,
    "editable": true
   },
   "outputs": [],
   "source": []
  },
  {
   "cell_type": "code",
   "execution_count": null,
   "metadata": {
    "collapsed": true,
    "deletable": true,
    "editable": true
   },
   "outputs": [],
   "source": [
    "def random_nums(amount_nums, chunk_size):\n",
    "    import random\n",
    "    num_string = \"\"\n",
    "    chunked = []\n",
    "    for i in range(0, amount_nums):\n",
    "        num_string += str(random.randrange(10))\n",
    "    if chunk_size <= 1:\n",
    "        return num_string\n",
    "    elif chunk_size >= 2:\n",
    "        for x in range(0, len(num_string), chunk_size):\n",
    "            chunked.append(num_string[x:x+chunk_size])\n",
    "    return chunked"
   ]
  },
  {
   "cell_type": "code",
   "execution_count": null,
   "metadata": {
    "collapsed": true,
    "deletable": true,
    "editable": true
   },
   "outputs": [],
   "source": [
    "def differences_2(file1):\n",
    "    file1 = \"\".join(file1)\n",
    "    c = 0\n",
    "    file2 = input(\"What are the items you remember?\")\n",
    "    for i in range (0, len(file2)):\n",
    "        if file1[i] == file2[i]:\n",
    "            c += 1\n",
    "    return c"
   ]
  },
  {
   "cell_type": "code",
   "execution_count": 40,
   "metadata": {
    "collapsed": false,
    "deletable": true,
    "editable": true
   },
   "outputs": [],
   "source": [
    "df.to_csv(\"Results A 2\", index = False)"
   ]
  },
  {
   "cell_type": "code",
   "execution_count": null,
   "metadata": {
    "collapsed": true,
    "deletable": true,
    "editable": true
   },
   "outputs": [],
   "source": []
  },
  {
   "cell_type": "code",
   "execution_count": null,
   "metadata": {
    "collapsed": false,
    "deletable": true,
    "editable": true
   },
   "outputs": [],
   "source": [
    "name = input(\"What is your name?\")\n",
    "name_list.append(name)"
   ]
  },
  {
   "cell_type": "code",
   "execution_count": null,
   "metadata": {
    "collapsed": true,
    "deletable": true,
    "editable": true
   },
   "outputs": [],
   "source": []
  },
  {
   "cell_type": "code",
   "execution_count": null,
   "metadata": {
    "collapsed": true,
    "deletable": true,
    "editable": true
   },
   "outputs": [],
   "source": []
  },
  {
   "cell_type": "code",
   "execution_count": null,
   "metadata": {
    "collapsed": false,
    "deletable": true,
    "editable": true
   },
   "outputs": [],
   "source": [
    "# This prints out the unchunked numbers and appends it to a list\n",
    "unchunked_num = (random_nums(35, 0))\n",
    "unchunked_list.append(unchunked_num)\n",
    "print(unchunked_num)\n"
   ]
  },
  {
   "cell_type": "code",
   "execution_count": null,
   "metadata": {
    "collapsed": true,
    "deletable": true,
    "editable": true
   },
   "outputs": [],
   "source": []
  }
 ],
 "metadata": {
  "kernelspec": {
   "display_name": "Python 3",
   "language": "python",
   "name": "python3"
  },
  "language_info": {
   "codemirror_mode": {
    "name": "ipython",
    "version": 3
   },
   "file_extension": ".py",
   "mimetype": "text/x-python",
   "name": "python",
   "nbconvert_exporter": "python",
   "pygments_lexer": "ipython3",
   "version": "3.5.2"
  }
 },
 "nbformat": 4,
 "nbformat_minor": 2
}
