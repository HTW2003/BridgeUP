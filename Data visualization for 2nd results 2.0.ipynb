{
 "cells": [
  {
   "cell_type": "code",
   "execution_count": 1,
   "metadata": {
    "collapsed": true,
    "deletable": true,
    "editable": true
   },
   "outputs": [],
   "source": [
    "import matplotlib.pyplot as plt\n",
    "import matplotlib.colors as mpl\n",
    "import pandas as pd\n",
    "import numpy as np\n",
    "from scipy.stats import norm\n",
    "import matplotlib.mlab as mlab"
   ]
  },
  {
   "cell_type": "code",
   "execution_count": 2,
   "metadata": {
    "collapsed": true,
    "deletable": true,
    "editable": true
   },
   "outputs": [],
   "source": [
    "second_results = pd.read_csv(\"Number Memorization Data - Sheet2.csv\")"
   ]
  },
  {
   "cell_type": "code",
   "execution_count": 3,
   "metadata": {
    "collapsed": false,
    "deletable": true,
    "editable": true
   },
   "outputs": [
    {
     "data": {
      "text/html": [
       "<div>\n",
       "<style>\n",
       "    .dataframe thead tr:only-child th {\n",
       "        text-align: right;\n",
       "    }\n",
       "\n",
       "    .dataframe thead th {\n",
       "        text-align: left;\n",
       "    }\n",
       "\n",
       "    .dataframe tbody tr th {\n",
       "        vertical-align: top;\n",
       "    }\n",
       "</style>\n",
       "<table border=\"1\" class=\"dataframe\">\n",
       "  <thead>\n",
       "    <tr style=\"text-align: right;\">\n",
       "      <th></th>\n",
       "      <th>Name</th>\n",
       "      <th>Unchunk #</th>\n",
       "      <th># Correct (UC)</th>\n",
       "      <th>Chunk #</th>\n",
       "      <th># Correct (C)</th>\n",
       "    </tr>\n",
       "  </thead>\n",
       "  <tbody>\n",
       "    <tr>\n",
       "      <th>0</th>\n",
       "      <td>Alexis</td>\n",
       "      <td>19310464424530224615625607504869210</td>\n",
       "      <td>9</td>\n",
       "      <td>[09, 47, 16, 16, 17, 96, 71, 74, 94, 86, 79, 4...</td>\n",
       "      <td>9</td>\n",
       "    </tr>\n",
       "    <tr>\n",
       "      <th>1</th>\n",
       "      <td>Angelica</td>\n",
       "      <td>367490978713288505090307726688850986</td>\n",
       "      <td>2</td>\n",
       "      <td>72 55 82 49 69 31 15 09 03 74 40 58 02 58 93 9...</td>\n",
       "      <td>4</td>\n",
       "    </tr>\n",
       "    <tr>\n",
       "      <th>2</th>\n",
       "      <td>Anjali</td>\n",
       "      <td>711098922118864084845860067937245930</td>\n",
       "      <td>11</td>\n",
       "      <td>06 13 53 66 46 22 16 28 22 57 09 99 29 93 70 8...</td>\n",
       "      <td>9</td>\n",
       "    </tr>\n",
       "    <tr>\n",
       "      <th>3</th>\n",
       "      <td>Ariana</td>\n",
       "      <td>796250220443549497520217691245153068</td>\n",
       "      <td>7</td>\n",
       "      <td>92 27 65 93 49 61 66 29 27 68 37 66 88 84 40 3...</td>\n",
       "      <td>3</td>\n",
       "    </tr>\n",
       "    <tr>\n",
       "      <th>4</th>\n",
       "      <td>Avery</td>\n",
       "      <td>872147553626006227694057883492343668</td>\n",
       "      <td>9</td>\n",
       "      <td>97 25 82 22 64 12 07 85 00 00 46 51 52 65 48 5...</td>\n",
       "      <td>5</td>\n",
       "    </tr>\n",
       "  </tbody>\n",
       "</table>\n",
       "</div>"
      ],
      "text/plain": [
       "       Name                             Unchunk #  # Correct (UC)  \\\n",
       "0    Alexis   19310464424530224615625607504869210               9   \n",
       "1  Angelica  367490978713288505090307726688850986               2   \n",
       "2    Anjali  711098922118864084845860067937245930              11   \n",
       "3    Ariana  796250220443549497520217691245153068               7   \n",
       "4     Avery  872147553626006227694057883492343668               9   \n",
       "\n",
       "                                             Chunk #  # Correct (C)  \n",
       "0  [09, 47, 16, 16, 17, 96, 71, 74, 94, 86, 79, 4...              9  \n",
       "1  72 55 82 49 69 31 15 09 03 74 40 58 02 58 93 9...              4  \n",
       "2  06 13 53 66 46 22 16 28 22 57 09 99 29 93 70 8...              9  \n",
       "3  92 27 65 93 49 61 66 29 27 68 37 66 88 84 40 3...              3  \n",
       "4  97 25 82 22 64 12 07 85 00 00 46 51 52 65 48 5...              5  "
      ]
     },
     "execution_count": 3,
     "metadata": {},
     "output_type": "execute_result"
    }
   ],
   "source": [
    "second_results.head()"
   ]
  },
  {
   "cell_type": "code",
   "execution_count": 6,
   "metadata": {
    "collapsed": false,
    "deletable": true,
    "editable": true
   },
   "outputs": [],
   "source": [
    "chunked = second_results[\"# Correct (C)\"]\n",
    "unchunked = second_results[\"# Correct (UC)\"]"
   ]
  },
  {
   "cell_type": "code",
   "execution_count": 7,
   "metadata": {
    "collapsed": false,
    "deletable": true,
    "editable": true
   },
   "outputs": [
    {
     "data": {
      "text/plain": [
       "5.8888888888888893"
      ]
     },
     "execution_count": 7,
     "metadata": {},
     "output_type": "execute_result"
    }
   ],
   "source": [
    "chunked_mean = chunked.mean()\n",
    "chunked.mean()"
   ]
  },
  {
   "cell_type": "code",
   "execution_count": 8,
   "metadata": {
    "collapsed": false,
    "deletable": true,
    "editable": true
   },
   "outputs": [
    {
     "data": {
      "text/plain": [
       "6.9444444444444446"
      ]
     },
     "execution_count": 8,
     "metadata": {},
     "output_type": "execute_result"
    }
   ],
   "source": [
    "unchunked_mean = unchunked.mean()\n",
    "unchunked.mean()"
   ]
  },
  {
   "cell_type": "code",
   "execution_count": 9,
   "metadata": {
    "collapsed": false,
    "deletable": true,
    "editable": true
   },
   "outputs": [],
   "source": [
    "unchunked_std = np.std(unchunked)\n",
    "chunked_std = np.std(chunked)"
   ]
  },
  {
   "cell_type": "code",
   "execution_count": 14,
   "metadata": {
    "collapsed": false,
    "deletable": true,
    "editable": true
   },
   "outputs": [
    {
     "data": {
      "image/png": "[encoded data removed]",
      "text/plain": [
       "<matplotlib.figure.Figure at 0x11fdf3e80>"
      ]
     },
     "metadata": {},
     "output_type": "display_data"
    }
   ],
   "source": [
    "plt.bar(1, unchunked_mean, yerr = unchunked_std, capsize = 7)\n",
    "plt.bar(2, chunked_mean, yerr = chunked_std, capsize = 7)\n",
    "plt.xticks([1,2], (\"Avg Amount of Correct #s (UC)\", \"Avg Amount of Correct #s (C)\"))\n",
    "plt.ylim(0, 11)\n",
    "plt.ylabel(\"Avg # of Correct Answers\")\n",
    "plt.title(\"Avg Amount of #s Correct\")\n",
    "plt.savefig(\"Final Final Bar Chart\")\n",
    "plt.show()"
   ]
  },
  {
   "cell_type": "code",
   "execution_count": 25,
   "metadata": {
    "collapsed": false,
    "deletable": true,
    "editable": true
   },
   "outputs": [
    {
     "data": {
      "image/png": "[encoded data removed]",
      "text/plain": [
       "<matplotlib.figure.Figure at 0x120389160>"
      ]
     },
     "metadata": {},
     "output_type": "display_data"
    }
   ],
   "source": [
    "plt.clf()\n",
    "(mu, sigma) = norm.fit(chunked)\n",
    "n, bins, patches = plt.hist(unchunked, 5, normed=1, color = \"orange\", label = \"chunked correct #\")\n",
    "y = mlab.normpdf(bins, mu, sigma)\n",
    "l = plt.plot(bins, y, \"r--\", linewidth=2)\n",
    "\n",
    "\n",
    "'''plt.hist(chunked, bins = 5, color = \"skyblue\", label = \"chunked correct #\")\n",
    "plt.hist(unchunked, bins = 5, color = \"indigo\", label = \"unchunked correct #\")'''\n",
    "\n",
    "plt.title(\"Amount of Correct #s for Unchunked\")\n",
    "plt.ylabel(\"Number of Subjects\")\n",
    "plt.xlabel(\"Amount of Correct Numbers\")\n",
    "plt.savefig(\"Final Final Histogram\")\n",
    "plt.show()"
   ]
  },
  {
   "cell_type": "code",
   "execution_count": 24,
   "metadata": {
    "collapsed": false,
    "deletable": true,
    "editable": true
   },
   "outputs": [
    {
     "data": {
      "image/png": "[encoded data removed]",
      "text/plain": [
       "<matplotlib.figure.Figure at 0x12017a780>"
      ]
     },
     "metadata": {},
     "output_type": "display_data"
    }
   ],
   "source": [
    "plt.clf()\n",
    "\n",
    "(mu, sigma) = norm.fit(chunked)\n",
    "\n",
    "n, bins, patches = plt.hist(chunked, 5, normed=1, color = \"skyblue\", label = \"chunked correct #\")\n",
    "\n",
    "y = mlab.normpdf(bins, mu, sigma)\n",
    "l = plt.plot(bins, y, \"r--\", linewidth=2)\n",
    "\n",
    "plt.title(\"Amount of Correct #s for Chunked\")\n",
    "plt.ylabel(\"Number of Subjects\")\n",
    "plt.xlabel(\"Amount of Correct Numbers\")\n",
    "plt.savefig(\"Final Final Histogram 2\")\n",
    "plt.show()"
   ]
  },
  {
   "cell_type": "code",
   "execution_count": 17,
   "metadata": {
    "collapsed": false,
    "deletable": true,
    "editable": true
   },
   "outputs": [
    {
     "name": "stdout",
     "output_type": "stream",
     "text": [
      "5\n",
      "10\n",
      "3\n"
     ]
    }
   ],
   "source": [
    "amount_chunked = 0\n",
    "amount_unchunked = 0\n",
    "amount_same = 0\n",
    "for i in range(0, len(chunked)):\n",
    "    if chunked[i] == unchunked[i]:\n",
    "        amount_same += 1\n",
    "    elif chunked[i] > unchunked[i]:\n",
    "        amount_chunked += 1\n",
    "    elif chunked[i] < unchunked[i]:\n",
    "        amount_unchunked += 1\n",
    "\n",
    "print(amount_chunked)\n",
    "print(amount_unchunked)\n",
    "print(amount_same)"
   ]
  },
  {
   "cell_type": "code",
   "execution_count": 18,
   "metadata": {
    "collapsed": false,
    "deletable": true,
    "editable": true
   },
   "outputs": [
    {
     "data": {
      "image/png": "[encoded data removed]",
      "text/plain": [
       "<matplotlib.figure.Figure at 0x11fbde6a0>"
      ]
     },
     "metadata": {},
     "output_type": "display_data"
    }
   ],
   "source": [
    "uc_c = [amount_chunked, amount_unchunked]\n",
    "\n",
    "colors = [\"orange\", \"skyblue\"]\n",
    "plt.pie(uc_c, labels=[\"More Chunked Correct\",\"More Unchunked Correct\"],autopct='%.0f%%', colors=colors)\n",
    "plt.suptitle(\"Avg % of Correct Answers\")\n",
    "plt.savefig(\"Chunking Pie chart\")\n",
    "\n",
    "plt.axis(\"equal\")\n",
    "plt.show()"
   ]
  },
  {
   "cell_type": "code",
   "execution_count": 19,
   "metadata": {
    "collapsed": false,
    "deletable": true,
    "editable": true
   },
   "outputs": [
    {
     "data": {
      "image/png": "[encoded data removed]",
      "text/plain": [
       "<matplotlib.figure.Figure at 0x11fab41d0>"
      ]
     },
     "metadata": {},
     "output_type": "display_data"
    }
   ],
   "source": [
    "'''plt.boxplot(chunked,whis= 10)\n",
    "plt.title(\"Chunked Data\")\n",
    "plt.show()\n",
    "plt.boxplot(unchunked)\n",
    "plt.title(\"Unchunked Data\")\n",
    "plt.show()'''\n",
    "\n",
    "data = [unchunked, chunked]\n",
    "plt.boxplot(data, whis = max(chunked), widths = .4)\n",
    "plt.title(\"Results of Experiment\")\n",
    "plt.savefig(\"B&W for initial results\")\n",
    "plt.xticks([1, 2], (\"Unchunked Data\", \"Chunked Data\"))\n",
    "plt.show()"
   ]
  },
  {
   "cell_type": "code",
   "execution_count": 20,
   "metadata": {
    "collapsed": false,
    "deletable": true,
    "editable": true
   },
   "outputs": [
    {
     "data": {
      "text/plain": [
       "'my_list = [1, 5, 10, 3, 5, 2, 1, 7, 3, 4, 5, 9, 2, 4]\\nplt.boxplot(my_list)\\nplt.show()'"
      ]
     },
     "execution_count": 20,
     "metadata": {},
     "output_type": "execute_result"
    }
   ],
   "source": [
    "#practice\n",
    "'''my_list = [1, 5, 10, 3, 5, 2, 1, 7, 3, 4, 5, 9, 2, 4]\n",
    "plt.boxplot(my_list)\n",
    "plt.show()'''"
   ]
  },
  {
   "cell_type": "code",
   "execution_count": 21,
   "metadata": {
    "collapsed": false,
    "deletable": true,
    "editable": true
   },
   "outputs": [
    {
     "name": "stdout",
     "output_type": "stream",
     "text": [
      "Ttest_indResult(statistic=1.1524181176349486, pvalue=0.25718784702387743)\n"
     ]
    }
   ],
   "source": [
    "#T-test\n",
    "#two sample t-test\n",
    "from scipy import stats\n",
    "print(stats.ttest_ind(unchunked, chunked))\n",
    "#High p-value strongly supports the null hypothesis"
   ]
  },
  {
   "cell_type": "code",
   "execution_count": null,
   "metadata": {
    "collapsed": true,
    "deletable": true,
    "editable": true
   },
   "outputs": [],
   "source": []
  }
 ],
 "metadata": {
  "kernelspec": {
   "display_name": "Python 3",
   "language": "python",
   "name": "python3"
  },
  "language_info": {
   "codemirror_mode": {
    "name": "ipython",
    "version": 3
   },
   "file_extension": ".py",
   "mimetype": "text/x-python",
   "name": "python",
   "nbconvert_exporter": "python",
   "pygments_lexer": "ipython3",
   "version": "3.5.2"
  }
 },
 "nbformat": 4,
 "nbformat_minor": 2
}
