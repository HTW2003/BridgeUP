{
 "cells": [
  {
   "cell_type": "code",
   "execution_count": 5,
   "metadata": {
    "collapsed": false
   },
   "outputs": [],
   "source": [
    "import random\n",
    "import pandas as pd"
   ]
  },
  {
   "cell_type": "code",
   "execution_count": 6,
   "metadata": {
    "collapsed": true
   },
   "outputs": [],
   "source": [
    "name_list = []\n",
    "unchunked_num = []\n",
    "unchunked_cor = []\n",
    "chunked_num = []\n",
    "chunked_cor = []"
   ]
  },
  {
   "cell_type": "code",
   "execution_count": 7,
   "metadata": {
    "collapsed": true
   },
   "outputs": [],
   "source": [
    "def random_nums(amount_nums, yes_or_no):\n",
    "    num_string = \"\"\n",
    "    chunks = []\n",
    "    for i in range(0, amount_nums):\n",
    "        num_string += str(random.randrange(10))\n",
    "    if yes_or_no == \"no\":\n",
    "        return num_string\n",
    "    else:\n",
    "        for x in range(0, len(num_string), 5):\n",
    "            chunks.append(num_string[x:x+5])\n",
    "    return chunks"
   ]
  },
  {
   "cell_type": "code",
   "execution_count": 8,
   "metadata": {
    "collapsed": true
   },
   "outputs": [],
   "source": [
    "def correct(original):\n",
    "    original = \"\".join(original)\n",
    "    \n",
    "    num = 0 #counter\n",
    "    answer = input(\"What can you remember?\")\n",
    "    for i in range(0, len(answer)):\n",
    "        if original[i] == answer[i]:\n",
    "            num += 1\n",
    "    return num"
   ]
  },
  {
   "cell_type": "code",
   "execution_count": 9,
   "metadata": {
    "collapsed": false
   },
   "outputs": [
    {
     "name": "stdout",
     "output_type": "stream",
     "text": [
      "56334420779787820951725598872575781\n"
     ]
    }
   ],
   "source": [
    "random_nums(35, \"no\")\n",
    "unchunked = random_nums(35, \"no\")\n",
    "unchunked_num.append(unchunked)\n",
    "print(unchunked)\n"
   ]
  },
  {
   "cell_type": "code",
   "execution_count": null,
   "metadata": {
    "collapsed": true
   },
   "outputs": [],
   "source": []
  },
  {
   "cell_type": "code",
   "execution_count": null,
   "metadata": {
    "collapsed": true
   },
   "outputs": [],
   "source": []
  },
  {
   "cell_type": "code",
   "execution_count": null,
   "metadata": {
    "collapsed": true
   },
   "outputs": [],
   "source": []
  },
  {
   "cell_type": "code",
   "execution_count": 10,
   "metadata": {
    "collapsed": false
   },
   "outputs": [
    {
     "name": "stdout",
     "output_type": "stream",
     "text": [
      "What can you remember?5637707978\n",
      "[4]\n"
     ]
    }
   ],
   "source": [
    "#correct(unchunked)\n",
    "u_cor = correct(unchunked)\n",
    "unchunked_cor.append(u_cor)\n",
    "print(unchunked_cor)\n",
    "\n",
    "\n"
   ]
  },
  {
   "cell_type": "code",
   "execution_count": 11,
   "metadata": {
    "collapsed": false
   },
   "outputs": [
    {
     "name": "stdout",
     "output_type": "stream",
     "text": [
      "['10182', '13351', '48203', '27047', '01205', '86256', '37184']\n"
     ]
    }
   ],
   "source": [
    "random_nums(35, \"yes\")\n",
    "chunked = random_nums(35, \"yes\")\n",
    "chunked_num.append(chunked)\n",
    "print(chunked)"
   ]
  },
  {
   "cell_type": "code",
   "execution_count": null,
   "metadata": {
    "collapsed": true
   },
   "outputs": [],
   "source": []
  },
  {
   "cell_type": "code",
   "execution_count": null,
   "metadata": {
    "collapsed": true
   },
   "outputs": [],
   "source": []
  },
  {
   "cell_type": "code",
   "execution_count": null,
   "metadata": {
    "collapsed": true
   },
   "outputs": [],
   "source": []
  },
  {
   "cell_type": "code",
   "execution_count": 12,
   "metadata": {
    "collapsed": false
   },
   "outputs": [
    {
     "name": "stdout",
     "output_type": "stream",
     "text": [
      "What can you remember?10182033514028\n",
      "[11]\n"
     ]
    }
   ],
   "source": [
    "#correct(chunked)\n",
    "ch_cor = correct(chunked)\n",
    "chunked_cor.append(ch_cor)\n",
    "print(chunked_cor)"
   ]
  },
  {
   "cell_type": "code",
   "execution_count": 13,
   "metadata": {
    "collapsed": false
   },
   "outputs": [
    {
     "name": "stdout",
     "output_type": "stream",
     "text": [
      "What is your name?anjali\n"
     ]
    }
   ],
   "source": [
    "name = input(\"What is your name?\")"
   ]
  },
  {
   "cell_type": "code",
   "execution_count": 14,
   "metadata": {
    "collapsed": false
   },
   "outputs": [
    {
     "name": "stdout",
     "output_type": "stream",
     "text": [
      "['anjali']\n"
     ]
    }
   ],
   "source": [
    "name_list.append(name)\n",
    "print(name_list)"
   ]
  },
  {
   "cell_type": "code",
   "execution_count": 15,
   "metadata": {
    "collapsed": false
   },
   "outputs": [
    {
     "data": {
      "text/html": [
       "<div>\n",
       "<style>\n",
       "    .dataframe thead tr:only-child th {\n",
       "        text-align: right;\n",
       "    }\n",
       "\n",
       "    .dataframe thead th {\n",
       "        text-align: left;\n",
       "    }\n",
       "\n",
       "    .dataframe tbody tr th {\n",
       "        vertical-align: top;\n",
       "    }\n",
       "</style>\n",
       "<table border=\"1\" class=\"dataframe\">\n",
       "  <thead>\n",
       "    <tr style=\"text-align: right;\">\n",
       "      <th></th>\n",
       "      <th>Name</th>\n",
       "      <th>Unchunked #</th>\n",
       "      <th># Correct (UC)</th>\n",
       "      <th>Chunked #</th>\n",
       "      <th># Correct (C)</th>\n",
       "    </tr>\n",
       "  </thead>\n",
       "  <tbody>\n",
       "    <tr>\n",
       "      <th>0</th>\n",
       "      <td>anjali</td>\n",
       "      <td>56334420779787820951725598872575781</td>\n",
       "      <td>4</td>\n",
       "      <td>[10182, 13351, 48203, 27047, 01205, 86256, 37184]</td>\n",
       "      <td>11</td>\n",
       "    </tr>\n",
       "  </tbody>\n",
       "</table>\n",
       "</div>"
      ],
      "text/plain": [
       "     Name                          Unchunked #  # Correct (UC)  \\\n",
       "0  anjali  56334420779787820951725598872575781               4   \n",
       "\n",
       "                                           Chunked #  # Correct (C)  \n",
       "0  [10182, 13351, 48203, 27047, 01205, 86256, 37184]             11  "
      ]
     },
     "execution_count": 15,
     "metadata": {},
     "output_type": "execute_result"
    }
   ],
   "source": [
    "df = pd.DataFrame({\"Name\": name_list, \"Unchunked #\": unchunked_num, \"# Correct (UC)\": unchunked_cor, \"Chunked #\": chunked_num, \"# Correct (C)\": chunked_cor })\n",
    "df = df[['Name', 'Unchunked #', '# Correct (UC)', 'Chunked #', '# Correct (C)']]\n",
    "df.head(25)"
   ]
  },
  {
   "cell_type": "code",
   "execution_count": 16,
   "metadata": {
    "collapsed": true
   },
   "outputs": [],
   "source": [
    "df.to_csv(\"Chunking_Anjali.csv\", index = False)"
   ]
  },
  {
   "cell_type": "code",
   "execution_count": null,
   "metadata": {
    "collapsed": true
   },
   "outputs": [],
   "source": []
  },
  {
   "cell_type": "code",
   "execution_count": null,
   "metadata": {
    "collapsed": true
   },
   "outputs": [],
   "source": []
  },
  {
   "cell_type": "code",
   "execution_count": null,
   "metadata": {
    "collapsed": true
   },
   "outputs": [],
   "source": []
  }
 ],
 "metadata": {
  "kernelspec": {
   "display_name": "Python 3",
   "language": "python",
   "name": "python3"
  },
  "language_info": {
   "codemirror_mode": {
    "name": "ipython",
    "version": 3
   },
   "file_extension": ".py",
   "mimetype": "text/x-python",
   "name": "python",
   "nbconvert_exporter": "python",
   "pygments_lexer": "ipython3",
   "version": "3.5.2"
  }
 },
 "nbformat": 4,
 "nbformat_minor": 2
}
