{
 "cells": [
  {
   "cell_type": "code",
   "execution_count": 69,
   "metadata": {
    "collapsed": true
   },
   "outputs": [],
   "source": [
    "import matplotlib.pyplot as plt\n",
    "import matplotlib.colors as mpl\n",
    "import pandas as pd\n",
    "import numpy as np\n",
    "from scipy.stats import norm\n",
    "import matplotlib.mlab as mlab"
   ]
  },
  {
   "cell_type": "code",
   "execution_count": 3,
   "metadata": {
    "collapsed": true
   },
   "outputs": [],
   "source": [
    "results = pd.read_csv(\"Number Memorization Data - Sheet1.csv\")"
   ]
  },
  {
   "cell_type": "code",
   "execution_count": 4,
   "metadata": {
    "collapsed": false
   },
   "outputs": [
    {
     "data": {
      "text/html": [
       "<div>\n",
       "<style>\n",
       "    .dataframe thead tr:only-child th {\n",
       "        text-align: right;\n",
       "    }\n",
       "\n",
       "    .dataframe thead th {\n",
       "        text-align: left;\n",
       "    }\n",
       "\n",
       "    .dataframe tbody tr th {\n",
       "        vertical-align: top;\n",
       "    }\n",
       "</style>\n",
       "<table border=\"1\" class=\"dataframe\">\n",
       "  <thead>\n",
       "    <tr style=\"text-align: right;\">\n",
       "      <th></th>\n",
       "      <th>Name</th>\n",
       "      <th>Unchunk #</th>\n",
       "      <th># Correct (UC)</th>\n",
       "      <th>Chunk #</th>\n",
       "      <th># Correct (C)</th>\n",
       "    </tr>\n",
       "  </thead>\n",
       "  <tbody>\n",
       "    <tr>\n",
       "      <th>0</th>\n",
       "      <td>Alexis</td>\n",
       "      <td>17297907390238149226414802872582839</td>\n",
       "      <td>5</td>\n",
       "      <td>10611 12312 93085 55605 10581 81454 25792'</td>\n",
       "      <td>10</td>\n",
       "    </tr>\n",
       "    <tr>\n",
       "      <th>1</th>\n",
       "      <td>Angelica</td>\n",
       "      <td>59295948629770291220106005306959668</td>\n",
       "      <td>6</td>\n",
       "      <td>26772 88425 58101 80348 61248 87767 52764</td>\n",
       "      <td>10</td>\n",
       "    </tr>\n",
       "    <tr>\n",
       "      <th>2</th>\n",
       "      <td>Anjali</td>\n",
       "      <td>56334420779787820951725598872575781</td>\n",
       "      <td>4</td>\n",
       "      <td>10182 13351 48203 27047 01205 86256 37184</td>\n",
       "      <td>11</td>\n",
       "    </tr>\n",
       "    <tr>\n",
       "      <th>3</th>\n",
       "      <td>Ariana</td>\n",
       "      <td>82218343732245991093852425971664767</td>\n",
       "      <td>4</td>\n",
       "      <td>37920 25089 25793 89070 97024 00241 98989</td>\n",
       "      <td>6</td>\n",
       "    </tr>\n",
       "    <tr>\n",
       "      <th>4</th>\n",
       "      <td>Avery</td>\n",
       "      <td>05596400928662988889364570084697837</td>\n",
       "      <td>4</td>\n",
       "      <td>11062 11557 31562 12302 84012 50533 94514</td>\n",
       "      <td>1</td>\n",
       "    </tr>\n",
       "  </tbody>\n",
       "</table>\n",
       "</div>"
      ],
      "text/plain": [
       "       Name                            Unchunk #  # Correct (UC)  \\\n",
       "0    Alexis  17297907390238149226414802872582839               5   \n",
       "1  Angelica  59295948629770291220106005306959668               6   \n",
       "2    Anjali  56334420779787820951725598872575781               4   \n",
       "3    Ariana  82218343732245991093852425971664767               4   \n",
       "4     Avery  05596400928662988889364570084697837               4   \n",
       "\n",
       "                                      Chunk #  # Correct (C)  \n",
       "0  10611 12312 93085 55605 10581 81454 25792'             10  \n",
       "1   26772 88425 58101 80348 61248 87767 52764             10  \n",
       "2   10182 13351 48203 27047 01205 86256 37184             11  \n",
       "3   37920 25089 25793 89070 97024 00241 98989              6  \n",
       "4   11062 11557 31562 12302 84012 50533 94514              1  "
      ]
     },
     "execution_count": 4,
     "metadata": {},
     "output_type": "execute_result"
    }
   ],
   "source": [
    "results.head()"
   ]
  },
  {
   "cell_type": "code",
   "execution_count": 5,
   "metadata": {
    "collapsed": true
   },
   "outputs": [],
   "source": [
    "chunked = results[\"# Correct (C)\"]\n",
    "unchunked = results[\"# Correct (UC)\"]"
   ]
  },
  {
   "cell_type": "code",
   "execution_count": 23,
   "metadata": {
    "collapsed": false
   },
   "outputs": [
    {
     "data": {
      "text/plain": [
       "6.0"
      ]
     },
     "execution_count": 23,
     "metadata": {},
     "output_type": "execute_result"
    }
   ],
   "source": [
    "chunked_mean = chunked.mean()\n",
    "chunked.mean()"
   ]
  },
  {
   "cell_type": "code",
   "execution_count": 24,
   "metadata": {
    "collapsed": false
   },
   "outputs": [
    {
     "data": {
      "text/plain": [
       "5.9500000000000002"
      ]
     },
     "execution_count": 24,
     "metadata": {},
     "output_type": "execute_result"
    }
   ],
   "source": [
    "unchunked_mean = unchunked.mean()\n",
    "unchunked.mean()"
   ]
  },
  {
   "cell_type": "code",
   "execution_count": 56,
   "metadata": {
    "collapsed": false
   },
   "outputs": [],
   "source": [
    "unchunked_std = np.std(unchunked)\n",
    "chunked_std = np.std(chunked)"
   ]
  },
  {
   "cell_type": "code",
   "execution_count": 60,
   "metadata": {
    "collapsed": false
   },
   "outputs": [
    {
     "data": {
      "image/png": "[encoded data removed]",
      "text/plain": [
       "<matplotlib.figure.Figure at 0x11e3d2dd8>"
      ]
     },
     "metadata": {},
     "output_type": "display_data"
    }
   ],
   "source": [
    "plt.bar(1, unchunked_mean, yerr = unchunked_std, capsize = 7)\n",
    "plt.bar(2, chunked_mean, yerr = chunked_std, capsize = 7)\n",
    "plt.xticks([1,2], (\"Avg Amount of Correct #s (UC)\", \"Avg Amount of Correct #s (C)\"))\n",
    "plt.ylim(0, 10)\n",
    "plt.ylabel(\"Avg # of Correct Answers\")\n",
    "plt.title(\"Avg Amount of #s Correct\")\n",
    "plt.savefig(\"Final Final Bar Chart\")\n",
    "plt.show()"
   ]
  },
  {
   "cell_type": "code",
   "execution_count": 74,
   "metadata": {
    "collapsed": false
   },
   "outputs": [
    {
     "data": {
      "image/png": "[encoded data removed]",
      "text/plain": [
       "<matplotlib.figure.Figure at 0x11f3f3080>"
      ]
     },
     "metadata": {},
     "output_type": "display_data"
    }
   ],
   "source": [
    "plt.clf()\n",
    "(mu, sigma) = norm.fit(chunked)\n",
    "n, bins, patches = plt.hist(unchunked, 5, normed=1, color = \"orange\", label = \"chunked correct #\")\n",
    "y = mlab.normpdf(bins, mu, sigma)\n",
    "l = plt.plot(bins, y, \"r--\", linewidth=2)\n",
    "\n",
    "\n",
    "'''plt.hist(chunked, bins = 5, color = \"skyblue\", label = \"chunked correct #\")\n",
    "plt.hist(unchunked, bins = 5, color = \"indigo\", label = \"unchunked correct #\")'''\n",
    "\n",
    "plt.title(\"Amount of Correct #s\")\n",
    "plt.ylabel(\"Number of Subjects\")\n",
    "plt.xlabel(\"Amount of Correct Numbers\")\n",
    "plt.savefig(\"Final Final Histogram\")\n",
    "plt.show()"
   ]
  },
  {
   "cell_type": "code",
   "execution_count": 75,
   "metadata": {
    "collapsed": false
   },
   "outputs": [
    {
     "data": {
      "image/png": "[encoded data removed]",
      "text/plain": [
       "<matplotlib.figure.Figure at 0x11f2a83c8>"
      ]
     },
     "metadata": {},
     "output_type": "display_data"
    }
   ],
   "source": [
    "plt.clf()\n",
    "\n",
    "(mu, sigma) = norm.fit(chunked)\n",
    "\n",
    "n, bins, patches = plt.hist(chunked, 5, normed=1, color = \"skyblue\", label = \"chunked correct #\")\n",
    "\n",
    "y = mlab.normpdf(bins, mu, sigma)\n",
    "l = plt.plot(bins, y, \"r--\", linewidth=2)\n",
    "\n",
    "plt.title(\"Amount of Correct #s\")\n",
    "plt.ylabel(\"Number of Subjects\")\n",
    "plt.xlabel(\"Amount of Correct Numbers\")\n",
    "plt.savefig(\"Final Final Histogram 2\")\n",
    "plt.show()"
   ]
  },
  {
   "cell_type": "code",
   "execution_count": 33,
   "metadata": {
    "collapsed": false
   },
   "outputs": [
    {
     "name": "stdout",
     "output_type": "stream",
     "text": [
      "11\n",
      "9\n",
      "0\n"
     ]
    }
   ],
   "source": [
    "amount_chunked = 0\n",
    "amount_unchunked = 0\n",
    "amount_same = 0\n",
    "for i in range(0, len(chunked)):\n",
    "    if chunked[i] == unchunked[i]:\n",
    "        amount_same += 1\n",
    "    elif chunked[i] > unchunked[i]:\n",
    "        amount_chunked += 1\n",
    "    elif chunked[i] < unchunked[i]:\n",
    "        amount_unchunked += 1\n",
    "\n",
    "print(amount_chunked)\n",
    "print(amount_unchunked)\n",
    "print(amount_same)"
   ]
  },
  {
   "cell_type": "code",
   "execution_count": 40,
   "metadata": {
    "collapsed": false
   },
   "outputs": [
    {
     "data": {
      "image/png": "[encoded data removed]",
      "text/plain": [
       "<matplotlib.figure.Figure at 0x11e294f28>"
      ]
     },
     "metadata": {},
     "output_type": "display_data"
    }
   ],
   "source": [
    "uc_c = [amount_chunked, amount_unchunked]\n",
    "\n",
    "colors = [\"orange\", \"skyblue\"]\n",
    "plt.pie(uc_c, labels=[\"More Chunked Correct\",\"More Unchunked Correct\"],autopct='%.0f%%', colors=colors)\n",
    "plt.suptitle(\"Avg % of Correct Answers\")\n",
    "plt.savefig(\"Chunking Pie chart\")\n",
    "\n",
    "plt.axis(\"equal\")\n",
    "plt.show()"
   ]
  },
  {
   "cell_type": "code",
   "execution_count": 63,
   "metadata": {
    "collapsed": false
   },
   "outputs": [
    {
     "data": {
      "image/png": "[encoded data removed]",
      "text/plain": [
       "<matplotlib.figure.Figure at 0x11f0c8048>"
      ]
     },
     "metadata": {},
     "output_type": "display_data"
    }
   ],
   "source": [
    "'''plt.boxplot(chunked,whis= 10)\n",
    "plt.title(\"Chunked Data\")\n",
    "plt.show()\n",
    "plt.boxplot(unchunked)\n",
    "plt.title(\"Unchunked Data\")\n",
    "plt.show()'''\n",
    "\n",
    "data = [unchunked, chunked]\n",
    "plt.boxplot(data, whis = max(chunked), widths = .4)\n",
    "plt.title(\"Results of Experiment\")\n",
    "plt.savefig(\"B&W for initial results\")\n",
    "plt.xticks([1, 2], (\"Unchunked Data\", \"Chunked Data\"))\n",
    "plt.show()"
   ]
  },
  {
   "cell_type": "code",
   "execution_count": 64,
   "metadata": {
    "collapsed": false
   },
   "outputs": [
    {
     "data": {
      "text/plain": [
       "'my_list = [1, 5, 10, 3, 5, 2, 1, 7, 3, 4, 5, 9, 2, 4]\\nplt.boxplot(my_list)\\nplt.show()'"
      ]
     },
     "execution_count": 64,
     "metadata": {},
     "output_type": "execute_result"
    }
   ],
   "source": [
    "#practice\n",
    "'''my_list = [1, 5, 10, 3, 5, 2, 1, 7, 3, 4, 5, 9, 2, 4]\n",
    "plt.boxplot(my_list)\n",
    "plt.show()'''"
   ]
  },
  {
   "cell_type": "code",
   "execution_count": 65,
   "metadata": {
    "collapsed": false
   },
   "outputs": [
    {
     "name": "stdout",
     "output_type": "stream",
     "text": [
      "Ttest_indResult(statistic=-0.052631578947368231, pvalue=0.95830117175934304)\n"
     ]
    }
   ],
   "source": [
    "#T-test\n",
    "#two sample t-test\n",
    "from scipy import stats\n",
    "print(stats.ttest_ind(unchunked, chunked))\n",
    "#High p-value strongly supports the null hypothesis"
   ]
  },
  {
   "cell_type": "code",
   "execution_count": null,
   "metadata": {
    "collapsed": true
   },
   "outputs": [],
   "source": []
  }
 ],
 "metadata": {
  "kernelspec": {
   "display_name": "Python 3",
   "language": "python",
   "name": "python3"
  },
  "language_info": {
   "codemirror_mode": {
    "name": "ipython",
    "version": 3
   },
   "file_extension": ".py",
   "mimetype": "text/x-python",
   "name": "python",
   "nbconvert_exporter": "python",
   "pygments_lexer": "ipython3",
   "version": "3.5.2"
  }
 },
 "nbformat": 4,
 "nbformat_minor": 2
}
