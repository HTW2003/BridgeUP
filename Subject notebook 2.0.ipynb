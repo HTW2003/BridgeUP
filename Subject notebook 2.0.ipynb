{
 "cells": [
  {
   "cell_type": "code",
   "execution_count": 1,
   "metadata": {
    "collapsed": false,
    "deletable": true,
    "editable": true
   },
   "outputs": [],
   "source": [
    "import random\n",
    "import pandas as pd"
   ]
  },
  {
   "cell_type": "code",
   "execution_count": 2,
   "metadata": {
    "collapsed": true,
    "deletable": true,
    "editable": true
   },
   "outputs": [],
   "source": [
    "name_list = []\n",
    "unchunked_num = []\n",
    "unchunked_cor = []\n",
    "chunked_num = []\n",
    "chunked_cor = []\n",
    "unchunked_let = []\n",
    "unchunked_cor_let = []\n",
    "chunked_let = []\n",
    "chunked_cor_let = []\n"
   ]
  },
  {
   "cell_type": "code",
   "execution_count": 3,
   "metadata": {
    "collapsed": true,
    "deletable": true,
    "editable": true
   },
   "outputs": [],
   "source": [
    "def random_nums(amount_nums, size_of_chunks):\n",
    "    num_string = \"\"\n",
    "    chunks = []\n",
    "    for i in range(0, amount_nums):\n",
    "        num_string += str(random.randrange(10))\n",
    "    if size_of_chunks == 0:\n",
    "        return num_string\n",
    "    else:\n",
    "        for x in range(0, len(num_string), size_of_chunks):\n",
    "            chunks.append(num_string[x:x+size_of_chunks])\n",
    "    return chunks"
   ]
  },
  {
   "cell_type": "code",
   "execution_count": 4,
   "metadata": {
    "collapsed": true,
    "deletable": true,
    "editable": true
   },
   "outputs": [],
   "source": [
    "def correct(original):\n",
    "    original = \"\".join(original)\n",
    "    \n",
    "    num = 0 #counter\n",
    "    answer = input(\"What can you remember?\")\n",
    "    for i in range(0, len(answer)):\n",
    "        if original[i] == answer[i]:\n",
    "            num += 1\n",
    "    return num"
   ]
  },
  {
   "cell_type": "code",
   "execution_count": 5,
   "metadata": {
    "collapsed": false,
    "deletable": true,
    "editable": true
   },
   "outputs": [
    {
     "name": "stdout",
     "output_type": "stream",
     "text": [
      "711098922118864084845860067937245930\n"
     ]
    }
   ],
   "source": [
    "random_nums(36, 0)\n",
    "unchunked = random_nums(36, 0)\n",
    "unchunked_num.append(unchunked)\n",
    "print(unchunked)\n"
   ]
  },
  {
   "cell_type": "code",
   "execution_count": null,
   "metadata": {
    "collapsed": true,
    "deletable": true,
    "editable": true
   },
   "outputs": [],
   "source": []
  },
  {
   "cell_type": "code",
   "execution_count": null,
   "metadata": {
    "collapsed": true,
    "deletable": true,
    "editable": true
   },
   "outputs": [],
   "source": []
  },
  {
   "cell_type": "code",
   "execution_count": 6,
   "metadata": {
    "collapsed": false,
    "deletable": true,
    "editable": true
   },
   "outputs": [
    {
     "name": "stdout",
     "output_type": "stream",
     "text": [
      "What can you remember?71109892211\n",
      "[11]\n"
     ]
    }
   ],
   "source": [
    "#correct(unchunked)\n",
    "u_cor = correct(unchunked)\n",
    "unchunked_cor.append(u_cor)\n",
    "print(unchunked_cor)"
   ]
  },
  {
   "cell_type": "code",
   "execution_count": 7,
   "metadata": {
    "collapsed": false,
    "deletable": true,
    "editable": true
   },
   "outputs": [
    {
     "name": "stdout",
     "output_type": "stream",
     "text": [
      "['06', '13', '53', '66', '46', '22', '16', '28', '22', '57', '09', '99', '29', '93', '70', '82', '86', '99']\n"
     ]
    }
   ],
   "source": [
    "random_nums(36, 2)\n",
    "chunked = random_nums(36, 2)\n",
    "chunked_num.append(chunked)\n",
    "print(chunked)"
   ]
  },
  {
   "cell_type": "code",
   "execution_count": null,
   "metadata": {
    "collapsed": true,
    "deletable": true,
    "editable": true
   },
   "outputs": [],
   "source": []
  },
  {
   "cell_type": "code",
   "execution_count": null,
   "metadata": {
    "collapsed": true,
    "deletable": true,
    "editable": true
   },
   "outputs": [],
   "source": []
  },
  {
   "cell_type": "code",
   "execution_count": 8,
   "metadata": {
    "collapsed": false,
    "deletable": true,
    "editable": true
   },
   "outputs": [
    {
     "name": "stdout",
     "output_type": "stream",
     "text": [
      "What can you remember?061253366622\n",
      "[9]\n"
     ]
    }
   ],
   "source": [
    "#correct(chunked)\n",
    "ch_cor = correct(chunked)\n",
    "chunked_cor.append(ch_cor)\n",
    "print(chunked_cor)"
   ]
  },
  {
   "cell_type": "code",
   "execution_count": 9,
   "metadata": {
    "collapsed": false,
    "deletable": true,
    "editable": true
   },
   "outputs": [
    {
     "name": "stdout",
     "output_type": "stream",
     "text": [
      "What is your name?anjali\n"
     ]
    }
   ],
   "source": [
    "name = input(\"What is your name?\")"
   ]
  },
  {
   "cell_type": "code",
   "execution_count": 10,
   "metadata": {
    "collapsed": false,
    "deletable": true,
    "editable": true
   },
   "outputs": [
    {
     "name": "stdout",
     "output_type": "stream",
     "text": [
      "['anjali']\n"
     ]
    }
   ],
   "source": [
    "name_list.append(name)\n",
    "print(name_list)"
   ]
  },
  {
   "cell_type": "code",
   "execution_count": 11,
   "metadata": {
    "collapsed": false,
    "deletable": true,
    "editable": true
   },
   "outputs": [
    {
     "data": {
      "text/html": [
       "<div>\n",
       "<style>\n",
       "    .dataframe thead tr:only-child th {\n",
       "        text-align: right;\n",
       "    }\n",
       "\n",
       "    .dataframe thead th {\n",
       "        text-align: left;\n",
       "    }\n",
       "\n",
       "    .dataframe tbody tr th {\n",
       "        vertical-align: top;\n",
       "    }\n",
       "</style>\n",
       "<table border=\"1\" class=\"dataframe\">\n",
       "  <thead>\n",
       "    <tr style=\"text-align: right;\">\n",
       "      <th></th>\n",
       "      <th>Name</th>\n",
       "      <th>Unchunked #</th>\n",
       "      <th># Correct (UC)</th>\n",
       "      <th>Chunked #</th>\n",
       "      <th># Correct (C)</th>\n",
       "    </tr>\n",
       "  </thead>\n",
       "  <tbody>\n",
       "    <tr>\n",
       "      <th>0</th>\n",
       "      <td>anjali</td>\n",
       "      <td>711098922118864084845860067937245930</td>\n",
       "      <td>11</td>\n",
       "      <td>[06, 13, 53, 66, 46, 22, 16, 28, 22, 57, 09, 9...</td>\n",
       "      <td>9</td>\n",
       "    </tr>\n",
       "  </tbody>\n",
       "</table>\n",
       "</div>"
      ],
      "text/plain": [
       "     Name                           Unchunked #  # Correct (UC)  \\\n",
       "0  anjali  711098922118864084845860067937245930              11   \n",
       "\n",
       "                                           Chunked #  # Correct (C)  \n",
       "0  [06, 13, 53, 66, 46, 22, 16, 28, 22, 57, 09, 9...              9  "
      ]
     },
     "execution_count": 11,
     "metadata": {},
     "output_type": "execute_result"
    }
   ],
   "source": [
    "df = pd.DataFrame({\"Name\": name_list, \"Unchunked #\": unchunked_num, \"# Correct (UC)\": unchunked_cor, \"Chunked #\": chunked_num, \"# Correct (C)\": chunked_cor })\n",
    "df = df[['Name', 'Unchunked #', '# Correct (UC)', 'Chunked #', '# Correct (C)']]\n",
    "df.head(25)"
   ]
  },
  {
   "cell_type": "code",
   "execution_count": 12,
   "metadata": {
    "collapsed": true,
    "deletable": true,
    "editable": true
   },
   "outputs": [],
   "source": [
    "df.to_csv(\"Anjali 2nd results.csv\", index = False)"
   ]
  },
  {
   "cell_type": "code",
   "execution_count": null,
   "metadata": {
    "collapsed": true,
    "deletable": true,
    "editable": true
   },
   "outputs": [],
   "source": []
  },
  {
   "cell_type": "code",
   "execution_count": null,
   "metadata": {
    "collapsed": true,
    "deletable": true,
    "editable": true
   },
   "outputs": [],
   "source": []
  },
  {
   "cell_type": "code",
   "execution_count": null,
   "metadata": {
    "collapsed": true,
    "deletable": true,
    "editable": true
   },
   "outputs": [],
   "source": []
  }
 ],
 "metadata": {
  "kernelspec": {
   "display_name": "Python 3",
   "language": "python",
   "name": "python3"
  },
  "language_info": {
   "codemirror_mode": {
    "name": "ipython",
    "version": 3
   },
   "file_extension": ".py",
   "mimetype": "text/x-python",
   "name": "python",
   "nbconvert_exporter": "python",
   "pygments_lexer": "ipython3",
   "version": "3.5.2"
  }
 },
 "nbformat": 4,
 "nbformat_minor": 2
}
