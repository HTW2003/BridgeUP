{
 "cells": [
  {
   "cell_type": "code",
   "execution_count": 1,
   "metadata": {
    "collapsed": true
   },
   "outputs": [],
   "source": [
    "import random"
   ]
  },
  {
   "cell_type": "code",
   "execution_count": 2,
   "metadata": {
    "collapsed": false
   },
   "outputs": [
    {
     "data": {
      "text/plain": [
       "'def correct(one, two):\\n    num = 0\\n    for i, aa in enumerate(one):\\n        if one[i] == two[i]:\\n            num += 1\\n    print(\"The subject got\", num, \"numbers correct\")'"
      ]
     },
     "execution_count": 2,
     "metadata": {},
     "output_type": "execute_result"
    }
   ],
   "source": [
    "'''def correct(one, two):\n",
    "    num = 0\n",
    "    for i, aa in enumerate(one):\n",
    "        if one[i] == two[i]:\n",
    "            num += 1\n",
    "    print(\"The subject got\", num, \"numbers correct\")'''\n"
   ]
  },
  {
   "cell_type": "code",
   "execution_count": 4,
   "metadata": {
    "collapsed": false
   },
   "outputs": [],
   "source": [
    "def random_nums(amount_nums, yes_or_no):\n",
    "    num_string = \"\"\n",
    "    chunks = []\n",
    "    for i in range(0, amount_nums):\n",
    "        num_string += str(random.randrange(10))\n",
    "    if yes_or_no == \"no\":\n",
    "        return num_string\n",
    "    else:\n",
    "        for x in range(0, len(num_string), 5):\n",
    "            chunks.append(num_string[x:x+5])\n",
    "    return chunks"
   ]
  },
  {
   "cell_type": "code",
   "execution_count": 5,
   "metadata": {
    "collapsed": false
   },
   "outputs": [
    {
     "name": "stdout",
     "output_type": "stream",
     "text": [
      "['83132', '13247', '11016', '48809', '04260', '45607', '04203']\n"
     ]
    }
   ],
   "source": [
    "result = random_nums(35, \"yes\")\n",
    "print(result)"
   ]
  },
  {
   "cell_type": "code",
   "execution_count": 8,
   "metadata": {
    "collapsed": true
   },
   "outputs": [],
   "source": [
    "def correct(original):\n",
    "    original = \"\".join(original)\n",
    "    \n",
    "    num = 0 #counter\n",
    "    answer = input(\"What can you remember?\")\n",
    "    for i in range(0, len(answer)):\n",
    "        if original[i] == answer[i]:\n",
    "            num += 1\n",
    "    print(\"The subject got\", num, \"numbers correct\")"
   ]
  },
  {
   "cell_type": "code",
   "execution_count": 9,
   "metadata": {
    "collapsed": false
   },
   "outputs": [
    {
     "name": "stdout",
     "output_type": "stream",
     "text": [
      "What can you remember?2\n",
      "The subject got 0 numbers correct\n"
     ]
    }
   ],
   "source": [
    "correct(result)"
   ]
  },
  {
   "cell_type": "code",
   "execution_count": null,
   "metadata": {
    "collapsed": false
   },
   "outputs": [],
   "source": [
    "my_list = [1, 44, 5, 9, 100]\n",
    "print(my_list[1])"
   ]
  },
  {
   "cell_type": "code",
   "execution_count": null,
   "metadata": {
    "collapsed": false
   },
   "outputs": [],
   "source": [
    "print(my_list[1:3])"
   ]
  },
  {
   "cell_type": "code",
   "execution_count": null,
   "metadata": {
    "collapsed": false
   },
   "outputs": [],
   "source": [
    "[my_list[1:1+4] for x in range(0, len(my_list), 4)]"
   ]
  },
  {
   "cell_type": "code",
   "execution_count": null,
   "metadata": {
    "collapsed": false
   },
   "outputs": [],
   "source": [
    "for x in range(0, len(my_list), 4):\n",
    "    print(my_list[1:1+4])"
   ]
  },
  {
   "cell_type": "code",
   "execution_count": null,
   "metadata": {
    "collapsed": false
   },
   "outputs": [],
   "source": [
    "var = input(\"Input a #\")"
   ]
  },
  {
   "cell_type": "code",
   "execution_count": null,
   "metadata": {
    "collapsed": false
   },
   "outputs": [],
   "source": [
    "print(\"Are you satisfied with \" + var + \"?\")"
   ]
  }
 ],
 "metadata": {
  "kernelspec": {
   "display_name": "Python 3",
   "language": "python",
   "name": "python3"
  },
  "language_info": {
   "codemirror_mode": {
    "name": "ipython",
    "version": 3
   },
   "file_extension": ".py",
   "mimetype": "text/x-python",
   "name": "python",
   "nbconvert_exporter": "python",
   "pygments_lexer": "ipython3",
   "version": "3.5.2"
  }
 },
 "nbformat": 4,
 "nbformat_minor": 2
}
